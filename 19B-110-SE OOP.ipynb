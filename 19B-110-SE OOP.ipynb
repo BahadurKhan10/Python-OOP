{
  "cells": [
    {
      "cell_type": "markdown",
      "source": [
        "# ASSIGNMENT 2\n",
        "Bahadur Khan 19B-110-SE(B)"
      ],
      "metadata": {}
    },
    {
      "cell_type": "code",
      "source": [
        "#Q1 (a)\n",
        "class Vehicles:  \n",
        "    def details(self):\n",
        "        print(\"This is parent class\")\n",
        "#1st class\n",
        "class Audi(Vehicles):\n",
        "    def __init__(self):\n",
        "        print(\"This is child class\")\n",
        "\n",
        "C1=Audi()\n",
        "c1.details()"
      ],
      "outputs": [
        {
          "output_type": "stream",
          "name": "stdout",
          "text": "This is child class\nThis is parent class\n"
        }
      ],
      "execution_count": 9,
      "metadata": {}
    },
    {
      "cell_type": "code",
      "source": [
        "#Q1 (b)\n",
        "class Tree:  \n",
        "    def details(self):\n",
        "        print(\"This is parent class\")\n",
        "#1st class\n",
        "class PalmTree(Tree):\n",
        "    def __init__(self):\n",
        "        print(\"This is child class\")\n",
        "\n",
        "T1=PalmTree()\n",
        "T1.details()"
      ],
      "outputs": [
        {
          "output_type": "stream",
          "name": "stdout",
          "text": "This is child class\nThis is parent class\n"
        }
      ],
      "execution_count": 11,
      "metadata": {}
    },
    {
      "cell_type": "code",
      "source": [
        "#Q1 (c)\n",
        "class Book:  \n",
        "    def details(self):\n",
        "        print(\"This is parent class\")\n",
        "#1st class\n",
        "class Novel(Book):\n",
        "    def __init__(self):\n",
        "        print(\"This is child class\")\n",
        "\n",
        "B1=Novel()\n",
        "B1.details()"
      ],
      "outputs": [
        {
          "output_type": "stream",
          "name": "stdout",
          "text": "This is child class\nThis is parent class\n"
        }
      ],
      "execution_count": 12,
      "metadata": {}
    },
    {
      "cell_type": "code",
      "source": [
        "#Q2 a\n",
        "class Father:  \n",
        "    def __init__(self,name):\n",
        "        self.name=name\n",
        "\n",
        "class Mother:  \n",
        "    def __init__(self,name):\n",
        "        self.name=name\n",
        "\n",
        "#1st class\n",
        "class Child(Mother,Father):\n",
        "    def __init__(self,name):\n",
        "        self.name=name\n",
        "        print(\"This is sub class of mother and father\")\n",
        "\n",
        "c=Child(\"Akram\")"
      ],
      "outputs": [
        {
          "output_type": "stream",
          "name": "stdout",
          "text": "This is sub class of mother and father\n"
        }
      ],
      "execution_count": 22,
      "metadata": {}
    },
    {
      "cell_type": "code",
      "source": [
        "#Q2 b\n",
        "class Boxer:  \n",
        "    def __init__(self,name):\n",
        "        self.name=name\n",
        "        print(self.name)\n",
        "        \n",
        "class Judo:  \n",
        "    def __init__(self,name):\n",
        "        self.name=name\n",
        "        print(self.name)\n",
        "        \n",
        "class KickBoxing:  \n",
        "    def __init__(self,name):\n",
        "        self.name=name\n",
        "        print(self.name)\n",
        "\n",
        "class Fighter_Game(Boxer,Judo,KickBoxing):  \n",
        "    def __init__(self,name):\n",
        "        self.name=name\n",
        "        print(self.name)\n",
        "        \n",
        "class Computer_Player(Fighter_Game):\n",
        "    def __init__(self):\n",
        "        print(\"This class indirectly includes all the class attributes\")\n",
        "\n",
        "C1=Computer_Player()"
      ],
      "outputs": [
        {
          "output_type": "stream",
          "name": "stdout",
          "text": "This class indirectly includes all the class attributes\n"
        }
      ],
      "execution_count": 23,
      "metadata": {}
    },
    {
      "cell_type": "code",
      "source": [
        "#Q2 c\n",
        "class Red:  \n",
        "    def __init__(self):\n",
        "        print(\"This is red color class\")\n",
        "        \n",
        "class Blue:  \n",
        "    def __init__(self):\n",
        "        print(\"This is blue color class\")\n",
        "            \n",
        "    \n",
        "class Green:  \n",
        "    def __init__(self):\n",
        "        print(\"This is Green color class\")\n",
        "\n",
        "class RGB(Red,Blue,Green):  \n",
        "    def __init__(self):\n",
        "        print(\"This contain all red blue green color\")\n",
        "\n",
        "C1=Red()\n",
        "C1=Blue()\n",
        "C1=Green()\n",
        "C1=RGB()"
      ],
      "outputs": [
        {
          "output_type": "stream",
          "name": "stdout",
          "text": "This is red color class\nThis is blue color class\nThis is Green color class\nThis contain all red blue green color\n"
        }
      ],
      "execution_count": 36,
      "metadata": {}
    },
    {
      "cell_type": "code",
      "source": [
        "#Q3 A\n",
        "class Shoot:\n",
        "    def __init__(self):\n",
        "        print(\"Press to shoot\")\n",
        "        \n",
        "class Dribble:\n",
        "    def __init__(self):\n",
        "        print(\"Press to Dribble\")\n",
        "\n",
        "class Run:\n",
        "    def __init__(self):\n",
        "        print(\"Press to run\")\n",
        "        \n",
        "class Player(Shoot,Dribble,Run):\n",
        "    def __init__(self):\n",
        "        print(\"Player has attributes to shoot, dribble and run\")\n",
        "        \n",
        "class FIFA_Game(Player):\n",
        "    def __init__(self):\n",
        "        print(\"This class contains all the attributes of above classes\")\n",
        "        \n",
        "        \n",
        "C1=FIFA_Game()\n",
        "C1=Shoot()\n",
        "C1=Dribble()\n",
        "C1=Run()"
      ],
      "outputs": [
        {
          "output_type": "stream",
          "name": "stdout",
          "text": "This class contains all the attributes of above classes\nPress to shoot\nPress to Dribble\nPress to run\n"
        }
      ],
      "execution_count": 37,
      "metadata": {}
    },
    {
      "cell_type": "code",
      "source": [
        "#Q3 B\n",
        "class OOP:\n",
        "    def __init__(self):\n",
        "        print(\"OOP = course\")\n",
        "        \n",
        "class PST:\n",
        "    def __init__(self):\n",
        "        print(\"PST = course\")\n",
        "\n",
        "class Maths:\n",
        "    def __init__(self):\n",
        "        print(\"Maths = course\")\n",
        "        \n",
        "class Teacher(OOP,PST,Maths):\n",
        "    def __init__(self):\n",
        "        print(\"Teacher teaches following three courses: maths, pst, oop\")\n",
        "        \n",
        "class Student(Teacher):\n",
        "    def __init__(self):\n",
        "        print(\"Here Student is dependent on teacher. SO, prerequisite condition is applied\")\n",
        "        \n",
        "\n",
        "S1=OOP()\n",
        "S1=PST()\n",
        "S1=Maths()\n",
        "S1=Teacher()\n",
        "S1=Student()"
      ],
      "outputs": [
        {
          "output_type": "stream",
          "name": "stdout",
          "text": "OOP = course\nPST = course\nMaths = course\nTeacher teaches following three courses: maths, pst, oop\nHere Student is dependent on teacher. SO, prerequisite condition is applied\n"
        }
      ],
      "execution_count": 39,
      "metadata": {}
    },
    {
      "cell_type": "code",
      "source": [
        "#Q3 C\n",
        "class Pages:\n",
        "    def __init__(self):\n",
        "        print(\"Pages class\")\n",
        "        \n",
        "class Tasks(Pages):\n",
        "    def __init__(self):\n",
        "        print(\"Tasks class\")\n",
        "\n",
        "class Exercise(Tasks):\n",
        "    def __init__(self):\n",
        "        print(\"This class inherits from tasks class\")\n",
        "\n",
        "class Chapters(Exercise):\n",
        "    def __init__(self):\n",
        "        print(\"This class inherits from Exercise class, thus contains attributes of all the classes\")\n",
        "        \n",
        "S1=Pages()\n",
        "S1=Tasks()\n",
        "S1=Exercise()\n",
        "S1=Chapters()      "
      ],
      "outputs": [
        {
          "output_type": "stream",
          "name": "stdout",
          "text": "Pages class\nTasks class\nThis class inherits from tasks class\nThis class inherits from Exercise class, thus contains attributes of all the classes\n"
        }
      ],
      "execution_count": 40,
      "metadata": {}
    }
  ],
  "metadata": {
    "kernelspec": {
      "display_name": "Python 3",
      "language": "python",
      "name": "python3"
    },
    "language_info": {
      "codemirror_mode": {
        "name": "ipython",
        "version": 3
      },
      "file_extension": ".py",
      "mimetype": "text/x-python",
      "name": "python",
      "nbconvert_exporter": "python",
      "pygments_lexer": "ipython3",
      "version": "3.7.6"
    },
    "nteract": {
      "version": "nteract-front-end@1.0.0"
    }
  },
  "nbformat": 4,
  "nbformat_minor": 4
}