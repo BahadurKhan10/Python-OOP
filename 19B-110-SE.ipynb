{
 "cells": [
  {
   "cell_type": "markdown",
   "metadata": {},
   "source": [
    "# TASK 1"
   ]
  },
  {
   "cell_type": "code",
   "execution_count": 2,
   "metadata": {},
   "outputs": [],
   "source": [
    "#Class and Constructor with attributes\n",
    "class BloodDonor: \n",
    "    def __init__(self,name,mobileNumber,bmi,bloodGroup,age):\n",
    "        self.name=name\n",
    "        self.mobileNumber=mobileNumber\n",
    "        self.bmi=bmi\n",
    "        self.bloodGroup=bloodGroup\n",
    "        self.age=age\n",
    "    \n",
    "    #Making function to Printing/getting all the details\n",
    "    def donor_Details(self):\n",
    "        print(\"The name of blood donor is         :\", self.name)\n",
    "        print(\"The Mobile Number of blood donor is:\", self.mobileNumber)\n",
    "        print(\"The BMI of blood donor is          :\", self.bmi)\n",
    "        print(\"The Blood Group of blood donor is  :\", self.bloodGroup)\n",
    "        print(\"The age of blood donor is          :\", self.age)\n",
    "        print(\"-------------------------------------------------------\")\n",
    "        \n",
    "    \n",
    "    #Functions to get specific details with data types\n",
    "    def getAge(self):\n",
    "        return int(self.age)\n",
    "    \n",
    "    def getName(self):\n",
    "        return str(self.name)\n",
    "    \n",
    "    def getNumber(self):\n",
    "        return int(self.mobileNumber)\n",
    "    \n",
    "    def getBMI(self):\n",
    "        return float(self.bmi)\n",
    "    "
   ]
  },
  {
   "cell_type": "code",
   "execution_count": 3,
   "metadata": {},
   "outputs": [
    {
     "name": "stdout",
     "output_type": "stream",
     "text": [
      "The name of blood donor is         : Bahadur Khan\n",
      "The Mobile Number of blood donor is: 21865999\n",
      "The BMI of blood donor is          : 28.2\n",
      "The Blood Group of blood donor is  : A+\n",
      "The age of blood donor is          : 19\n",
      "-------------------------------------------------------\n"
     ]
    }
   ],
   "source": [
    "#Making object of Blood Donor class and calling other functions\n",
    "b1=BloodDonor(\"Bahadur Khan\",21865999,28.2,\"A+\",19)\n",
    "b1.donor_Details()"
   ]
  },
  {
   "cell_type": "code",
   "execution_count": 4,
   "metadata": {
    "scrolled": true
   },
   "outputs": [
    {
     "data": {
      "text/plain": [
       "19"
      ]
     },
     "execution_count": 4,
     "metadata": {},
     "output_type": "execute_result"
    }
   ],
   "source": [
    "b1.getAge()"
   ]
  },
  {
   "cell_type": "code",
   "execution_count": 5,
   "metadata": {},
   "outputs": [
    {
     "data": {
      "text/plain": [
       "'Bahadur Khan'"
      ]
     },
     "execution_count": 5,
     "metadata": {},
     "output_type": "execute_result"
    }
   ],
   "source": [
    "b1.getName()"
   ]
  },
  {
   "cell_type": "code",
   "execution_count": 6,
   "metadata": {},
   "outputs": [
    {
     "data": {
      "text/plain": [
       "21865999"
      ]
     },
     "execution_count": 6,
     "metadata": {},
     "output_type": "execute_result"
    }
   ],
   "source": [
    "b1.getNumber()"
   ]
  },
  {
   "cell_type": "code",
   "execution_count": 7,
   "metadata": {},
   "outputs": [
    {
     "data": {
      "text/plain": [
       "28.2"
      ]
     },
     "execution_count": 7,
     "metadata": {},
     "output_type": "execute_result"
    }
   ],
   "source": [
    "b1.getBMI()"
   ]
  },
  {
   "cell_type": "markdown",
   "metadata": {},
   "source": [
    "# TASK 2"
   ]
  },
  {
   "cell_type": "code",
   "execution_count": 8,
   "metadata": {},
   "outputs": [],
   "source": [
    "#Class Numdays and its constructor \n",
    "class NumDays:\n",
    "    def __init__(self,hours,days):\n",
    "        self.hours=hours\n",
    "        self.days=days\n",
    "    \n",
    "    \n",
    "    #Changing hours into days\n",
    "    def Convert(self):\n",
    "        converstion=round(float(self.hours/24))\n",
    "        return converstion\n",
    "    \n",
    "    \n",
    "    #Getter and Setters for hours and days\n",
    "    def setHoursDays(self, hours ,days):\n",
    "        self.hours=hours\n",
    "        self.days=days\n",
    "        \n",
    "    def getHoursDays(self):\n",
    "        return self.hours, self.days\n",
    "    \n",
    "    \n",
    "    #Operator overloading (Add and Subtract)\n",
    "    def __add__(self, other):\n",
    "        x = self.hours + other.hours\n",
    "        y = self.days + other.days\n",
    "        return( x,y)\n",
    "        \n",
    "    def __sub__(self, other):\n",
    "        x = self.hours - other.hours\n",
    "        y = self.days - other.days\n",
    "        return( x,y)\n",
    "        "
   ]
  },
  {
   "cell_type": "code",
   "execution_count": 9,
   "metadata": {},
   "outputs": [
    {
     "name": "stdout",
     "output_type": "stream",
     "text": [
      "Converstion of hours into days: 2\n",
      "Converstion of hours into days: 3\n"
     ]
    }
   ],
   "source": [
    "#Calling the function to change hours into days\n",
    "c1=NumDays(48,2)\n",
    "c2=NumDays(72,4)\n",
    "print(\"Converstion of hours into days:\",c1.Convert())\n",
    "print(\"Converstion of hours into days:\",c2.Convert())"
   ]
  },
  {
   "cell_type": "code",
   "execution_count": 10,
   "metadata": {},
   "outputs": [
    {
     "name": "stdout",
     "output_type": "stream",
     "text": [
      "Subtraction operator Overloading= (-24, -2)\n",
      "Add operator Overloading= (120, 6)\n"
     ]
    }
   ],
   "source": [
    "#Operator overloading of sub and add\n",
    "print(\"Subtraction operator Overloading=\", c1-c2)\n",
    "print(\"Add operator Overloading=\",c1+c2 )"
   ]
  },
  {
   "cell_type": "code",
   "execution_count": 11,
   "metadata": {},
   "outputs": [
    {
     "data": {
      "text/plain": [
       "(4, 2)"
      ]
     },
     "execution_count": 11,
     "metadata": {},
     "output_type": "execute_result"
    }
   ],
   "source": [
    "#Getters and setters\n",
    "c1.setHoursDays(4,2)\n",
    "c1.getHoursDays()"
   ]
  },
  {
   "cell_type": "markdown",
   "metadata": {},
   "source": [
    "# TASK 3"
   ]
  },
  {
   "cell_type": "code",
   "execution_count": 12,
   "metadata": {},
   "outputs": [],
   "source": [
    "#Class student and its constructor\n",
    "class Student:\n",
    "    def __init__(self,name,rollno,department):\n",
    "        self.name=name\n",
    "        self.rollno=rollno\n",
    "        self.department=department\n",
    "        \n",
    "#Function to get the details about the student\n",
    "    def DisplayInformation(self):\n",
    "        print(\"DETAILS OF STUDENT\")\n",
    "        print(\"Name of student is: \",self.name)\n",
    "        print(\"Roll No of\",self.name,\"is: \",self.rollno)\n",
    "        print(\"Department of\",self.name,\"is: \",self.department)\n",
    "        print(\"-------------------------------------------------\")\n",
    "        \n",
    "#Getter and setters for Roll no and Department\n",
    "    def setRollno(self,rollno):\n",
    "        self.rollno=rollno\n",
    "        \n",
    "    def getRollno(self):\n",
    "        return int(self.rollno)\n",
    "    \n",
    "    def setDepartment(self,department):\n",
    "        self.department=department\n",
    "        \n",
    "    def getDepartment(self):\n",
    "        return str(self.department)\n",
    "    \n",
    "    def GetInformation(self):\n",
    "        return self.name,self.rollno,self.department\n",
    "    \n",
    "\n",
    "#Second Class Employee and its constructor\n",
    "class Employee:\n",
    "    def __init__(self,empname,Empno,salary):\n",
    "        self.empname=empname\n",
    "        self.Empno=Empno\n",
    "        self.salary=salary\n",
    "        \n",
    "#Fuction to get the details of employee\n",
    "    def DisplayInformation(self):\n",
    "        print(\"DETAILS OF Employee\")\n",
    "        print(\"Name of Employee is: \",self.empname)\n",
    "        print(\"Employee No of\",self.empname,\"is: \",self.Empno)\n",
    "        print(\"Salary of\",self.empname,\"is: \",self.salary)\n",
    "        print(\"-------------------------------------------------\")\n",
    "\n",
    "        \n",
    "#Getter and Setter for Employee no and Employee Salary        \n",
    "    def setEmpno(self,Empno):\n",
    "        self.Empno=Empno\n",
    "        \n",
    "    def getEmpno(self):\n",
    "        return int(self.Empno)\n",
    "    \n",
    "    def setSalary(self,salary):\n",
    "        self.salary=salary\n",
    "        \n",
    "    def getSalary(self):\n",
    "        return str(self.salary)\n",
    "    \n",
    "    def GetInformation(self):\n",
    "        return self.empname,self.Empno,self.salary\n",
    "    \n",
    "\n",
    "#Third class which has Multilevel inheritance \n",
    "#Two class Student and Employee is inherited\n",
    "\n",
    "class TeachingAssistant(Student,Employee):\n",
    "    def __init__(self,timing):\n",
    "        self.timing=timing\n",
    "        \n",
    "#Getter and Setter for timing \n",
    "    def setTiming(self,timing):\n",
    "        self.timing=timing\n",
    "        \n",
    "    def getTiming(self):\n",
    "        return str(self.timing)\n",
    "    \n",
    "#Two Functions for getting the information about timing\n",
    "    def GetInformation(self):\n",
    "        return str(self.timing)\n",
    "    \n",
    "    def DisplayInformation(self):\n",
    "        print(\"Timing is: \",self.timing)"
   ]
  },
  {
   "cell_type": "code",
   "execution_count": 52,
   "metadata": {},
   "outputs": [
    {
     "name": "stdout",
     "output_type": "stream",
     "text": [
      "DETAILS OF STUDENT\n",
      "Name of student is:  RyZen\n",
      "Roll No of RyZen is:  110\n",
      "Department of RyZen is:  Computer Science\n",
      "-------------------------------------------------\n",
      "('RyZen', 110, 'Computer Science')\n",
      "--------------------------------\n",
      "65\n",
      "--------------------------------\n"
     ]
    },
    {
     "data": {
      "text/plain": [
       "'Software Engineering'"
      ]
     },
     "execution_count": 52,
     "metadata": {},
     "output_type": "execute_result"
    }
   ],
   "source": [
    "#Calling Display Information function FOR STUDENT\n",
    "stud1=Student(\"RyZen\",110,\"Computer Science\")\n",
    "stud1.DisplayInformation()\n",
    "\n",
    "#Calling GetInformation function for STUDENT\n",
    "print(stud1.GetInformation())\n",
    "print(\"--------------------------------\")\n",
    "\n",
    "#Getter and setter for roll no FOR STUDENT\n",
    "stud1.setRollno(65)\n",
    "print(stud1.getRollno())\n",
    "print(\"--------------------------------\")\n",
    "\n",
    "#Getter and setter for department FOR STUDENT\n",
    "stud1.setDepartment(\"Software Engineering\")\n",
    "stud1.getDepartment()"
   ]
  },
  {
   "cell_type": "code",
   "execution_count": 53,
   "metadata": {},
   "outputs": [
    {
     "name": "stdout",
     "output_type": "stream",
     "text": [
      "DETAILS OF Employee\n",
      "Name of Employee is:  ReXX\n",
      "Employee No of ReXX is:  77\n",
      "Salary of ReXX is:  90000\n",
      "-------------------------------------------------\n",
      "('ReXX', 77, 90000)\n",
      "--------------------------------\n",
      "65\n",
      "--------------------------------\n"
     ]
    },
    {
     "data": {
      "text/plain": [
       "'90000'"
      ]
     },
     "execution_count": 53,
     "metadata": {},
     "output_type": "execute_result"
    }
   ],
   "source": [
    "#Calling Display Information function FOR Employee\n",
    "Emp1=Employee(\"ReXX\",77,90000)\n",
    "Emp1.DisplayInformation()\n",
    "\n",
    "#Calling GetInformation function for Employee\n",
    "print(Emp1.GetInformation())\n",
    "print(\"--------------------------------\")\n",
    "\n",
    "#Getter and setter for roll no FOR Employee no\n",
    "Emp1.setEmpno(65)\n",
    "print(Emp1.getEmpno())\n",
    "print(\"--------------------------------\")\n",
    "\n",
    "#Getter and setter for Employee Salary\n",
    "Emp1.setSalary(90000)\n",
    "Emp1.getSalary()"
   ]
  },
  {
   "cell_type": "code",
   "execution_count": 54,
   "metadata": {},
   "outputs": [
    {
     "name": "stdout",
     "output_type": "stream",
     "text": [
      "Timing is:  9:00\n",
      "5:59\n"
     ]
    }
   ],
   "source": [
    "#Calling functions for Teaching Assistant class\n",
    "ts=TeachingAssistant(\"9:00\")\n",
    "ts.GetInformation()\n",
    "ts.DisplayInformation()\n",
    "\n",
    "#Getter and Setter for Teaching Assistant Class\n",
    "ts.setTiming(\"5:59\")\n",
    "print(ts.getTiming())"
   ]
  },
  {
   "cell_type": "markdown",
   "metadata": {},
   "source": [
    "# END"
   ]
  }
 ],
 "metadata": {
  "kernelspec": {
   "display_name": "Python 3",
   "language": "python",
   "name": "python3"
  },
  "language_info": {
   "codemirror_mode": {
    "name": "ipython",
    "version": 3
   },
   "file_extension": ".py",
   "mimetype": "text/x-python",
   "name": "python",
   "nbconvert_exporter": "python",
   "pygments_lexer": "ipython3",
   "version": "3.7.6"
  }
 },
 "nbformat": 4,
 "nbformat_minor": 4
}
