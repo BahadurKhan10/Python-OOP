{
 "cells": [
  {
   "cell_type": "markdown",
   "metadata": {},
   "source": [
    "# Q3"
   ]
  },
  {
   "cell_type": "code",
   "execution_count": 38,
   "metadata": {},
   "outputs": [
    {
     "name": "stdout",
     "output_type": "stream",
     "text": [
      "-----------------------------------\n",
      "Store is located in : Pakistan\n",
      "Capacity of store is: more than 50\n",
      "Street no of store: 557\n",
      "Zip code of store: 75770\n",
      "City in which store is located is: Karachi\n",
      "-----------------------------------\n",
      "Customer name is : Ibrahim\n",
      "Customer city is: Karachi\n",
      "Customer phone no is: 03494949445\n",
      "Zip code of customer city is: 798798\n",
      "Customer lives in: 998 near national ground\n",
      "-----------------------------------\n",
      "Person is: Regular Customer\n",
      "Discount for the person is 30% off\n",
      "------------------------------------\n",
      "Company type is: Private\n",
      "Company has paid the taxes: Yes it does\n",
      "----------------------------------------\n",
      "Product number is:  779\n",
      "Product description is: Keyboard\n",
      "Price of product is: 25$\n",
      "-------------------------------------------\n",
      "Order num is: 7\n",
      "Shipping Date is: 8/5/2020\n",
      "To street: 889 st\n",
      "To zipcode: 7889\n"
     ]
    }
   ],
   "source": [
    "class Store:\n",
    "    def __init__(self,location,capacity,street,zipcode,city):\n",
    "        self.location=location\n",
    "        self.capacity=capacity\n",
    "        self.street=street\n",
    "        self.zipcode=zipcode\n",
    "        self.city=city\n",
    "\n",
    "    def Details_Store(self):\n",
    "        print(\"-----------------------------------\")\n",
    "        print(\"Store is located in :\", self.location)\n",
    "        print(\"Capacity of store is:\",self.capacity)\n",
    "        print(\"Street no of store:\", self.street)\n",
    "        print(\"Zip code of store:\", self.zipcode)\n",
    "        print(\"City in which store is located is:\", self.city)\n",
    "        print(\"-----------------------------------\")\n",
    "\n",
    "class Customer(Company):\n",
    "    def __init__(self,custname,custcity,custnum,custzipcode,custstreet):\n",
    "        self._custname=custname\n",
    "        self._custcity=custcity\n",
    "        self._custnum=custnum\n",
    "        self._custzipcode=custzipcode\n",
    "        self._custstreet=custstreet\n",
    "        \n",
    "    def Details_Customer(self):\n",
    "        print(\"Customer name is :\",self._custname)\n",
    "        print(\"Customer city is:\",self._custcity)\n",
    "        print(\"Customer phone no is:\", self._custnum)\n",
    "        print(\"Zip code of customer city is:\", self._custzipcode)\n",
    "        print(\"Customer lives in:\", self._custstreet)\n",
    "        print(\"-----------------------------------\")\n",
    "        \n",
    "class Person(Customer):\n",
    "    def __init__(self,personid,discount):\n",
    "        self._personid=personid\n",
    "        self.discount=discount\n",
    "        \n",
    "    def Details_Person(self):\n",
    "        print(\"Person is:\",self._personid)\n",
    "        print(\"Discount for the person is\",self.discount)\n",
    "        print(\"------------------------------------\")\n",
    "        \n",
    "\n",
    "class Company(Customer):\n",
    "    def __init__(self,type,taxes):\n",
    "        self.type=type\n",
    "        self._taxes=taxes\n",
    "        \n",
    "    def Details_Comp(self):\n",
    "        print(\"Company type is:\",self.type)\n",
    "        print(\"Company has paid the taxes:\",self._taxes)\n",
    "        print(\"----------------------------------------\")\n",
    "        \n",
    "class Product:\n",
    "    def __init__(self,productnum,description,price):\n",
    "        self.productnum=productnum\n",
    "        self.description=description\n",
    "        self.price=price\n",
    "        \n",
    "    def Details_Product(self):\n",
    "        print(\"Product number is: \",self.productnum)\n",
    "        print(\"Product description is:\", self.description)\n",
    "        print(\"Price of product is:\",self.price)\n",
    "        print(\"-------------------------------------------\")\n",
    "        \n",
    "class Order_Purchase:\n",
    "    def __init__(self,ordernum,shippingdate,tocity,tostreet,tozipcode):\n",
    "        self.ordernum=ordernum\n",
    "        self.shippingdate=shippingdate\n",
    "        self.tostreet=tostreet\n",
    "        self.tozipcode=tozipcode\n",
    "    \n",
    "    def Details_OrderP(self):\n",
    "        print(\"Order num is:\",self.ordernum)\n",
    "        print(\"Shipping Date is:\",self.shippingdate)\n",
    "        print(\"To street:\",self.tostreet)\n",
    "        print(\"To zipcode:\",self.tozipcode)\n",
    "        \n",
    "\n",
    "#Making objects\n",
    "st=Store(\"Pakistan\",\"more than 50\",557,75770,\"Karachi\")\n",
    "st.Details_Store()\n",
    "\n",
    "cst=Customer(\"Ibrahim\",\"Karachi\",\"03494949445\",798798,\"998 near national ground\")\n",
    "cst.Details_Customer()\n",
    "\n",
    "per=Person(\"Regular Customer\",\"30% off\")\n",
    "per.Details_Person()\n",
    "\n",
    "comp=Company(\"Private\",\"Yes it does\")\n",
    "comp.Details_Comp()\n",
    "\n",
    "prod=Product(779,\"Keyboard\",\"25$\")\n",
    "prod.Details_Product()\n",
    "\n",
    "op=Order_Purchase(7,\"8/5/2020\",\"Karachi\",\"889 st\",7889)\n",
    "op.Details_OrderP()"
   ]
  },
  {
   "cell_type": "code",
   "execution_count": 39,
   "metadata": {},
   "outputs": [],
   "source": [
    "import pickle\n",
    "emp = {1:\"A\",2:\"B\",3:\"C\",4:\"D\",5:\"E\"}\n",
    "pickling_on = open(\"Emp.pickle\",\"wb\")\n",
    "pickle.dump(emp, pickling_on)\n",
    "pickling_on.close()"
   ]
  },
  {
   "cell_type": "code",
   "execution_count": 40,
   "metadata": {},
   "outputs": [
    {
     "name": "stdout",
     "output_type": "stream",
     "text": [
      "{1: 'A', 2: 'B', 3: 'C', 4: 'D', 5: 'E'}\n"
     ]
    }
   ],
   "source": [
    "pickle_off = open(\"Emp.pickle\",\"rb\")\n",
    "emp = pickle.load(pickle_off)\n",
    "print(emp)"
   ]
  },
  {
   "cell_type": "code",
   "execution_count": 42,
   "metadata": {},
   "outputs": [
    {
     "name": "stdout",
     "output_type": "stream",
     "text": [
      "2\n",
      "7\n"
     ]
    }
   ],
   "source": [
    "class MyClass: \n",
    "  \n",
    "    # Hidden member of MyClass \n",
    "    __hiddenVariable = 0\n",
    "    \n",
    "    # A member method that changes  \n",
    "    # __hiddenVariable  \n",
    "    def add(self, increment): \n",
    "        self.__hiddenVariable += increment \n",
    "        print (self.__hiddenVariable) \n",
    "   \n",
    "# Driver code \n",
    "myObject = MyClass()      \n",
    "myObject.add(2) \n",
    "myObject.add(5) \n",
    "  "
   ]
  },
  {
   "cell_type": "code",
   "execution_count": null,
   "metadata": {},
   "outputs": [
    {
     "name": "stderr",
     "output_type": "stream",
     "text": [
      "Exception in Tkinter callback\n",
      "Traceback (most recent call last):\n",
      "  File \"E:\\anaconda\\lib\\tkinter\\__init__.py\", line 1705, in __call__\n",
      "    return self.func(*args)\n",
      "  File \"<ipython-input-53-e673f6256954>\", line 15, in generate_code\n",
      "    add = (int(data[0])+int(data[1])+int(data[2])+int(data[3])+int(data[4]))\n",
      "ValueError: invalid literal for int() with base 10: 'B'\n",
      "Exception in Tkinter callback\n",
      "Traceback (most recent call last):\n",
      "  File \"E:\\anaconda\\lib\\tkinter\\__init__.py\", line 1705, in __call__\n",
      "    return self.func(*args)\n",
      "  File \"<ipython-input-53-e673f6256954>\", line 15, in generate_code\n",
      "    add = (int(data[0])+int(data[1])+int(data[2])+int(data[3])+int(data[4]))\n",
      "ValueError: invalid literal for int() with base 10: 'B'\n"
     ]
    }
   ],
   "source": [
    "from tkinter import *\n",
    "\n",
    "root=Tk()\n",
    "root.geometry('250x200')\n",
    "root.title('Final Exam')\n",
    "root.configure(background = 'powder blue')\n",
    "\n",
    "secret_code = StringVar()\n",
    "secret_code.set(\"Private\")\n",
    "\n",
    "def generate_code():\n",
    "    n=name.get()\n",
    "    s=sid.get()\n",
    "    data = s.split(\"-\")[0]\n",
    "    add = (int(data[0])+int(data[1])+int(data[2])+int(data[3])+int(data[4]))\n",
    "    sub = (int(data[0])-int(data[1])-int(data[2])-int(data[3])-int(data[4]))\n",
    "    mul = (int(data[0])*int(data[1])*int(data[2])*int(data[3])*int(data[4]))\n",
    "    secret_key = (add,sub,mul)\n",
    "    secret_code.set(secret_key)\n",
    "\n",
    "Label(root,text='Name').grid(row=0,column=0)\n",
    "Label(root,text='CNIC').grid(row=1,column=0)\n",
    "Label(root,text='Secret Code:').grid(row=3,column=0)\n",
    "Label(root, textvariable=secret_code).grid(row=3,column=1)\n",
    "name=Entry(root)\n",
    "name.grid(row=0,column=1)\n",
    "sid=Entry(root)\n",
    "sid.grid(row=1,column=1)\n",
    "btn=Button(root,text='Generate secrete code code',command=generate_code).grid(row=2,column=1,columnspan=2)\n",
    "\n",
    "\n",
    "root.mainloop()"
   ]
  },
  {
   "cell_type": "code",
   "execution_count": null,
   "metadata": {},
   "outputs": [],
   "source": []
  }
 ],
 "metadata": {
  "kernelspec": {
   "display_name": "Python 3",
   "language": "python",
   "name": "python3"
  },
  "language_info": {
   "codemirror_mode": {
    "name": "ipython",
    "version": 3
   },
   "file_extension": ".py",
   "mimetype": "text/x-python",
   "name": "python",
   "nbconvert_exporter": "python",
   "pygments_lexer": "ipython3",
   "version": "3.7.6"
  }
 },
 "nbformat": 4,
 "nbformat_minor": 4
}
